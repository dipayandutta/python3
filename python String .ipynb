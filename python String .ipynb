{
 "cells": [
  {
   "cell_type": "markdown",
   "metadata": {},
   "source": [
    "**A Function Returns a string Example Code**"
   ]
  },
  {
   "cell_type": "code",
   "execution_count": 1,
   "metadata": {},
   "outputs": [
    {
     "name": "stdout",
     "output_type": "stream",
     "text": [
      "Password Checking system!\n",
      "Please Enter a password secret\n",
      "Password Matched!\n"
     ]
    }
   ],
   "source": [
    "def authenticateUser(password):\n",
    "    if password == 'secret':\n",
    "        message = \"Password Matched!\"\n",
    "    else:\n",
    "        message = \"Unable to match password!\"\n",
    "    return message\n",
    "\n",
    "def main():\n",
    "    print(\"Password Checking system!\")\n",
    "    password = input(\"Please Enter a password \")\n",
    "    function_call = authenticateUser(password)\n",
    "    print(function_call)\n",
    "    \n",
    "if __name__ == '__main__':\n",
    "    main()"
   ]
  },
  {
   "cell_type": "markdown",
   "metadata": {},
   "source": [
    "**Program for max finder**"
   ]
  },
  {
   "cell_type": "code",
   "execution_count": 2,
   "metadata": {},
   "outputs": [
    {
     "name": "stdout",
     "output_type": "stream",
     "text": [
      "Please enter first number 10\n",
      "Please enter second number 12\n",
      "Please enter third number 32\n",
      "Biggest number among three numbers 32 \n"
     ]
    }
   ],
   "source": [
    "def max3(n1 , n2 , n3):\n",
    "    def max2(n1,n2):\n",
    "        if n1>n2:\n",
    "            return n1\n",
    "        else:\n",
    "            return n2\n",
    "    return max2(max2(n1,n2),n3)\n",
    "\n",
    "def main():\n",
    "    n1 = int(input(\"Please enter first number \"))\n",
    "    n2 = int(input(\"Please enter second number \"))\n",
    "    n3 = int(input(\"Please enter third number \"))\n",
    "    \n",
    "    result = max3(n1,n2,n3)\n",
    "    print(\"Biggest number among three numbers {0} \".format(result))\n",
    "    \n",
    "if __name__ == '__main__':\n",
    "    main()"
   ]
  },
  {
   "cell_type": "markdown",
   "metadata": {},
   "source": [
    "**count() function in python3 string** Examples"
   ]
  },
  {
   "cell_type": "code",
   "execution_count": 4,
   "metadata": {},
   "outputs": [
    {
     "name": "stdout",
     "output_type": "stream",
     "text": [
      "2\n"
     ]
    }
   ],
   "source": [
    "string = \"python programming\"\n",
    "print (string.count('p')) # finding number of occurance of p in the string "
   ]
  },
  {
   "cell_type": "code",
   "execution_count": 5,
   "metadata": {},
   "outputs": [
    {
     "name": "stdout",
     "output_type": "stream",
     "text": [
      "3\n"
     ]
    }
   ],
   "source": [
    "vowels = 'aeiou'\n",
    "vowelCount = 0\n",
    "for ch in vowels:\n",
    "    vowelCount += 'Hello World!'.count(ch)\n",
    "    \n",
    "print (vowelCount)"
   ]
  },
  {
   "cell_type": "markdown",
   "metadata": {},
   "source": [
    "**find() example**"
   ]
  },
  {
   "cell_type": "code",
   "execution_count": 7,
   "metadata": {},
   "outputs": [
    {
     "name": "stdout",
     "output_type": "stream",
     "text": [
      "10\n"
     ]
    }
   ],
   "source": [
    "colors = 'red,green,blue,white'\n",
    "print (colors.find('blue'))"
   ]
  },
  {
   "cell_type": "code",
   "execution_count": 8,
   "metadata": {},
   "outputs": [
    {
     "name": "stdout",
     "output_type": "stream",
     "text": [
      "-1\n"
     ]
    }
   ],
   "source": [
    "print (colors.find('pink'))"
   ]
  },
  {
   "cell_type": "markdown",
   "metadata": {},
   "source": [
    "**capitalize , title , lower, upper and swapcase**"
   ]
  },
  {
   "cell_type": "code",
   "execution_count": 10,
   "metadata": {},
   "outputs": [
    {
     "name": "stdout",
     "output_type": "stream",
     "text": [
      "Brefore Capitalization python is a great programming language \n",
      "After Capitalization Python is a great programming language\n"
     ]
    }
   ],
   "source": [
    "message = 'python is a great programming language'\n",
    "print (\"Brefore Capitalization {} \".format(message))\n",
    "\n",
    "print (\"After Capitalization {}\".format(message.capitalize()))"
   ]
  },
  {
   "cell_type": "code",
   "execution_count": 12,
   "metadata": {},
   "outputs": [
    {
     "name": "stdout",
     "output_type": "stream",
     "text": [
      "Now using title() = Python Is A Great Programming Language\n"
     ]
    }
   ],
   "source": [
    "print (\"Now using title() = {}\".format(message.title()))"
   ]
  },
  {
   "cell_type": "code",
   "execution_count": 13,
   "metadata": {},
   "outputs": [
    {
     "name": "stdout",
     "output_type": "stream",
     "text": [
      "Now using upper case for all chars = PYTHON IS A GREAT PROGRAMMING LANGUAGE\n"
     ]
    }
   ],
   "source": [
    "print(\"Now using upper case for all chars = {}\".format(message.upper()))"
   ]
  },
  {
   "cell_type": "code",
   "execution_count": 14,
   "metadata": {},
   "outputs": [
    {
     "name": "stdout",
     "output_type": "stream",
     "text": [
      "Now using lower case for all chars python is a great programming language\n"
     ]
    }
   ],
   "source": [
    "print (\"Now using lower case for all chars {}\".format(message.lower()))"
   ]
  },
  {
   "cell_type": "code",
   "execution_count": 15,
   "metadata": {},
   "outputs": [
    {
     "name": "stdout",
     "output_type": "stream",
     "text": [
      "Checking if all the chars are lower or not  True\n"
     ]
    }
   ],
   "source": [
    "print (\"Checking if all the chars are lower or not \",message.islower())"
   ]
  },
  {
   "cell_type": "code",
   "execution_count": 16,
   "metadata": {},
   "outputs": [
    {
     "name": "stdout",
     "output_type": "stream",
     "text": [
      "Checking if all the chars are upper or not  False\n"
     ]
    }
   ],
   "source": [
    "print(\"Checking if all the chars are upper or not \",message.isupper())"
   ]
  },
  {
   "cell_type": "markdown",
   "metadata": {},
   "source": [
    "**replace()**"
   ]
  },
  {
   "cell_type": "code",
   "execution_count": 17,
   "metadata": {},
   "outputs": [
    {
     "name": "stdout",
     "output_type": "stream",
     "text": [
      "Python and C++ is a great programming language\n"
     ]
    }
   ],
   "source": [
    "print(message.replace('python','Python and C++'))"
   ]
  },
  {
   "cell_type": "markdown",
   "metadata": {},
   "source": [
    "**split() and partition()**"
   ]
  },
  {
   "cell_type": "code",
   "execution_count": 18,
   "metadata": {},
   "outputs": [
    {
     "name": "stdout",
     "output_type": "stream",
     "text": [
      "['red', 'blue', 'green', 'white']\n"
     ]
    }
   ],
   "source": [
    "colors = 'red,blue,green,white'\n",
    "print (colors.split(','))"
   ]
  },
  {
   "cell_type": "code",
   "execution_count": 19,
   "metadata": {},
   "outputs": [
    {
     "name": "stdout",
     "output_type": "stream",
     "text": [
      "('Hello ', '.', ' How are you?')\n"
     ]
    }
   ],
   "source": [
    "message = 'Hello . How are you?'\n",
    "print(message.partition('.'))"
   ]
  },
  {
   "cell_type": "markdown",
   "metadata": {},
   "source": [
    "**isalpha(), isdigit(),isalnum()**"
   ]
  },
  {
   "cell_type": "code",
   "execution_count": 21,
   "metadata": {},
   "outputs": [
    {
     "name": "stdout",
     "output_type": "stream",
     "text": [
      "False\n",
      "False\n",
      "False\n"
     ]
    }
   ],
   "source": [
    "print (message.isalpha()) #This will show False since blank character is not an alphabet\n",
    "print (message.isdigit())\n",
    "print (message.isalnum())"
   ]
  },
  {
   "cell_type": "markdown",
   "metadata": {},
   "source": [
    "**set functions**"
   ]
  },
  {
   "cell_type": "code",
   "execution_count": 22,
   "metadata": {},
   "outputs": [],
   "source": [
    "fruits = {'apple','orange','lemon'}\n",
    "veges  = {'lemon','potato'}"
   ]
  },
  {
   "cell_type": "code",
   "execution_count": 23,
   "metadata": {},
   "outputs": [
    {
     "name": "stdout",
     "output_type": "stream",
     "text": [
      "{'orange', 'potato', 'lemon', 'apple'}\n"
     ]
    }
   ],
   "source": [
    "# union example\n",
    "print (fruits.union(veges))"
   ]
  },
  {
   "cell_type": "code",
   "execution_count": 24,
   "metadata": {},
   "outputs": [
    {
     "name": "stdout",
     "output_type": "stream",
     "text": [
      "{'orange', 'potato', 'lemon', 'apple'}\n"
     ]
    }
   ],
   "source": [
    "# alternate union operator\n",
    "union = fruits | veges\n",
    "print (union)"
   ]
  },
  {
   "cell_type": "code",
   "execution_count": 25,
   "metadata": {},
   "outputs": [
    {
     "name": "stdout",
     "output_type": "stream",
     "text": [
      "{'lemon'}\n"
     ]
    }
   ],
   "source": [
    "# intersection example\n",
    "print (fruits.intersection(veges))"
   ]
  },
  {
   "cell_type": "code",
   "execution_count": 26,
   "metadata": {},
   "outputs": [
    {
     "name": "stdout",
     "output_type": "stream",
     "text": [
      "{'apple', 'orange'}\n"
     ]
    }
   ],
   "source": [
    "# difference example\n",
    "print (fruits.difference(veges))"
   ]
  },
  {
   "cell_type": "code",
   "execution_count": 27,
   "metadata": {},
   "outputs": [
    {
     "name": "stdout",
     "output_type": "stream",
     "text": [
      "{'apple', 'orange', 'potato'}\n"
     ]
    }
   ],
   "source": [
    "# symmetric difference\n",
    "print (fruits.symmetric_difference(veges))"
   ]
  },
  {
   "cell_type": "code",
   "execution_count": null,
   "metadata": {},
   "outputs": [],
   "source": []
  }
 ],
 "metadata": {
  "kernelspec": {
   "display_name": "Python 3",
   "language": "python",
   "name": "python3"
  },
  "language_info": {
   "codemirror_mode": {
    "name": "ipython",
    "version": 3
   },
   "file_extension": ".py",
   "mimetype": "text/x-python",
   "name": "python",
   "nbconvert_exporter": "python",
   "pygments_lexer": "ipython3",
   "version": "3.7.0"
  }
 },
 "nbformat": 4,
 "nbformat_minor": 2
}
