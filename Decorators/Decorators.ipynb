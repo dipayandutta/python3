{
 "cells": [
  {
   "cell_type": "markdown",
   "metadata": {},
   "source": [
    "# Python Decorators"
   ]
  },
  {
   "cell_type": "markdown",
   "metadata": {},
   "source": [
    "# # function inside function Example"
   ]
  },
  {
   "cell_type": "code",
   "execution_count": 1,
   "metadata": {},
   "outputs": [
    {
     "name": "stdout",
     "output_type": "stream",
     "text": [
      "This is the outside function\n",
      "This is the inside function!\n"
     ]
    }
   ],
   "source": [
    "def function_outside():\n",
    "    def function_inside():\n",
    "        print (\"This is the inside function!\")\n",
    "    \n",
    "    print (\"This is the outside function\")\n",
    "    #calling the inside function\n",
    "    function_inside()\n",
    "#calling outside function\n",
    "function_outside()"
   ]
  },
  {
   "cell_type": "markdown",
   "metadata": {},
   "source": [
    "# Another Example of nested function"
   ]
  },
  {
   "cell_type": "code",
   "execution_count": 3,
   "metadata": {},
   "outputs": [
    {
     "name": "stdout",
     "output_type": "stream",
     "text": [
      "It's68.0Degrees!\n"
     ]
    }
   ],
   "source": [
    "def temperature(temp):\n",
    "    def c2f(x):\n",
    "        return 9*x/5+32\n",
    "    result = \"It's\" + str(c2f(temp))+\"Degrees!\"\n",
    "    return result\n",
    "print(temperature(20))"
   ]
  },
  {
   "cell_type": "markdown",
   "metadata": {},
   "source": [
    "Function as a prameter to another function"
   ]
  },
  {
   "cell_type": "code",
   "execution_count": 4,
   "metadata": {},
   "outputs": [
    {
     "name": "stdout",
     "output_type": "stream",
     "text": [
      "Hi This is the calling function!\n",
      "Hi This is the passing function!\n"
     ]
    }
   ],
   "source": [
    "def function_to_pass():\n",
    "    print (\"Hi This is the passing function!\")\n",
    "def function_to_Call(function):\n",
    "    print (\"Hi This is the calling function!\")\n",
    "    function()\n",
    "function_to_Call(function_to_pass)"
   ]
  },
  {
   "cell_type": "code",
   "execution_count": 8,
   "metadata": {},
   "outputs": [
    {
     "name": "stdout",
     "output_type": "stream",
     "text": [
      "Hi This is the calling function!\n",
      "The Calling Function Name is function_to_pass\n",
      "The Calling Function Name is function_to_pass\n",
      "Hi This is the calling function!\n",
      "The Calling Function Name is another_function_to_pass\n",
      "The Calling Function Name is another_function_to_pass\n"
     ]
    }
   ],
   "source": [
    "def function_to_pass():\n",
    "    print(\"Hi this is the passing function!\")\n",
    "    \n",
    "def another_function_to_pass():\n",
    "    print(\"Hi This is another function for passing!\")\n",
    "          \n",
    "def function_to_call(function):\n",
    "    print (\"Hi This is the calling function!\")\n",
    "    #function()\n",
    "    print(\"The Calling Function Name is \"+function.__name__)\n",
    "    #function()\n",
    "    print(\"The Calling Function Name is \"+function.__name__)\n",
    "function_to_call(function_to_pass)\n",
    "function_to_call(another_function_to_pass)"
   ]
  },
  {
   "cell_type": "markdown",
   "metadata": {},
   "source": [
    "Another Example"
   ]
  },
  {
   "cell_type": "code",
   "execution_count": 9,
   "metadata": {},
   "outputs": [
    {
     "name": "stdout",
     "output_type": "stream",
     "text": [
      "The function sinwas passed to the function\n",
      "1.1350859243855171\n",
      "The function coswas passed to the function\n",
      "-1.5194806481430598\n"
     ]
    }
   ],
   "source": [
    "import math\n",
    "def function(function):\n",
    "    print(\"The function \"+function.__name__ +\"was passed to the function\")\n",
    "    result = 0\n",
    "    for x in [1,2,3,4]:\n",
    "        result += function(x)\n",
    "    return result\n",
    "print (function(math.sin))\n",
    "print (function(math.cos))"
   ]
  },
  {
   "cell_type": "markdown",
   "metadata": {},
   "source": [
    "Function returning function example"
   ]
  },
  {
   "cell_type": "code",
   "execution_count": 15,
   "metadata": {},
   "outputs": [
    {
     "name": "stdout",
     "output_type": "stream",
     "text": [
      "<function function_one.<locals>.function_two at 0x000001195E3C2C80>\n",
      "24\n"
     ]
    }
   ],
   "source": [
    "def function_one(arg_one):\n",
    "    def function_two(arg_two):\n",
    "        return arg_two+arg_one+3\n",
    "    return function_two\n",
    "    \n",
    "function_one_call = function_one(10)\n",
    "function_two_call = function_one(20)\n",
    "\n",
    "print (function_one_call)\n",
    "print (function_two_call(1))"
   ]
  },
  {
   "cell_type": "markdown",
   "metadata": {},
   "source": [
    "A Simple decorator Example"
   ]
  },
  {
   "cell_type": "code",
   "execution_count": 16,
   "metadata": {},
   "outputs": [
    {
     "name": "stdout",
     "output_type": "stream",
     "text": [
      "Before Calling succ\n",
      "11\n",
      "After Calling succ\n"
     ]
    }
   ],
   "source": [
    "def simple_decorator(function):\n",
    "    def function_wrapper(x):\n",
    "        print(\"Before Calling \"+function.__name__)\n",
    "        result = function(x)\n",
    "        print(result)\n",
    "        print (\"After Calling \"+function.__name__)\n",
    "    return function_wrapper\n",
    "@simple_decorator\n",
    "def succ(n):\n",
    "    return n+1\n",
    "succ(10)"
   ]
  },
  {
   "cell_type": "markdown",
   "metadata": {},
   "source": [
    "Another Example"
   ]
  },
  {
   "cell_type": "code",
   "execution_count": 22,
   "metadata": {},
   "outputs": [
    {
     "name": "stdout",
     "output_type": "stream",
     "text": [
      "Before Calling function sin\n",
      "0.02159097572609596\n",
      "After Calling function sin\n",
      "Before Calling function cos\n",
      "-0.9997668877129283\n",
      "After Calling function cos\n",
      "Before Calling function function_call\n",
      "11\n",
      "After Calling function function_call\n"
     ]
    }
   ],
   "source": [
    "from math import sin,cos\n",
    "def simple_decorator(function):\n",
    "    def function_wrapper(x):\n",
    "        print (\"Before Calling function \"+function.__name__)\n",
    "        result = function(x)\n",
    "        print(result)\n",
    "        print (\"After Calling function \"+function.__name__)\n",
    "    return function_wrapper\n",
    "\n",
    "sin = simple_decorator(sin)\n",
    "cos = simple_decorator(cos)\n",
    "\n",
    "for f in [sin,cos]:\n",
    "    f(3.12)\n",
    "\n",
    "@simple_decorator\n",
    "def function_call(n):\n",
    "    return n+1\n",
    "function_call(10)"
   ]
  },
  {
   "cell_type": "markdown",
   "metadata": {},
   "source": [
    "Argument Checking with Decorator"
   ]
  },
  {
   "cell_type": "code",
   "execution_count": 24,
   "metadata": {},
   "outputs": [
    {
     "name": "stdout",
     "output_type": "stream",
     "text": [
      "1 1\n",
      "2 2\n",
      "3 6\n",
      "4 24\n",
      "5 120\n",
      "6 720\n",
      "7 5040\n",
      "8 40320\n",
      "9 362880\n"
     ]
    },
    {
     "ename": "Exception",
     "evalue": "Argument is not an integer",
     "output_type": "error",
     "traceback": [
      "\u001b[1;31m---------------------------------------------------------------------------\u001b[0m",
      "\u001b[1;31mException\u001b[0m                                 Traceback (most recent call last)",
      "\u001b[1;32m<ipython-input-24-70dbca384c82>\u001b[0m in \u001b[0;36m<module>\u001b[1;34m()\u001b[0m\n\u001b[0;32m     17\u001b[0m     \u001b[0mprint\u001b[0m\u001b[1;33m(\u001b[0m\u001b[0mi\u001b[0m\u001b[1;33m,\u001b[0m\u001b[0mfactorial\u001b[0m\u001b[1;33m(\u001b[0m\u001b[0mi\u001b[0m\u001b[1;33m)\u001b[0m\u001b[1;33m)\u001b[0m\u001b[1;33m\u001b[0m\u001b[0m\n\u001b[0;32m     18\u001b[0m \u001b[1;33m\u001b[0m\u001b[0m\n\u001b[1;32m---> 19\u001b[1;33m \u001b[0mprint\u001b[0m \u001b[1;33m(\u001b[0m\u001b[0mfactorial\u001b[0m\u001b[1;33m(\u001b[0m\u001b[1;33m-\u001b[0m\u001b[1;36m1\u001b[0m\u001b[1;33m)\u001b[0m\u001b[1;33m)\u001b[0m\u001b[1;31m# non integer argument\u001b[0m\u001b[1;33m\u001b[0m\u001b[0m\n\u001b[0m",
      "\u001b[1;32m<ipython-input-24-70dbca384c82>\u001b[0m in \u001b[0;36mhelper\u001b[1;34m(arg)\u001b[0m\n\u001b[0;32m      4\u001b[0m             \u001b[1;32mreturn\u001b[0m \u001b[0mfunction\u001b[0m\u001b[1;33m(\u001b[0m\u001b[0marg\u001b[0m\u001b[1;33m)\u001b[0m\u001b[1;33m\u001b[0m\u001b[0m\n\u001b[0;32m      5\u001b[0m         \u001b[1;32melse\u001b[0m\u001b[1;33m:\u001b[0m\u001b[1;33m\u001b[0m\u001b[0m\n\u001b[1;32m----> 6\u001b[1;33m             \u001b[1;32mraise\u001b[0m \u001b[0mException\u001b[0m\u001b[1;33m(\u001b[0m\u001b[1;34m\"Argument is not an integer\"\u001b[0m\u001b[1;33m)\u001b[0m\u001b[1;33m\u001b[0m\u001b[0m\n\u001b[0m\u001b[0;32m      7\u001b[0m     \u001b[1;32mreturn\u001b[0m \u001b[0mhelper\u001b[0m\u001b[1;33m\u001b[0m\u001b[0m\n\u001b[0;32m      8\u001b[0m \u001b[1;33m\u001b[0m\u001b[0m\n",
      "\u001b[1;31mException\u001b[0m: Argument is not an integer"
     ]
    }
   ],
   "source": [
    "def argument_test_natural_number(function):\n",
    "    def helper(arg):\n",
    "        if type(arg) == int and arg>0:\n",
    "            return function(arg)\n",
    "        else:\n",
    "            raise Exception(\"Argument is not an integer\")\n",
    "    return helper\n",
    "\n",
    "@argument_test_natural_number\n",
    "def factorial(arg):\n",
    "    if arg == 1:\n",
    "        return 1\n",
    "    else:\n",
    "        return factorial(arg-1)*arg\n",
    "    \n",
    "for i in range(1,10):\n",
    "    print(i,factorial(i))\n",
    "    \n",
    "print (factorial(-1))# non integer argument"
   ]
  },
  {
   "cell_type": "markdown",
   "metadata": {},
   "source": [
    "Another Example"
   ]
  },
  {
   "cell_type": "code",
   "execution_count": 30,
   "metadata": {},
   "outputs": [
    {
     "name": "stdout",
     "output_type": "stream",
     "text": [
      "This is before function call ...\n",
      "Hello World!\n",
      "This is after function call ...\n"
     ]
    }
   ],
   "source": [
    "# A smiple Example of decorator\n",
    "def simple_decorator(function):\n",
    "    def wrapper():\n",
    "        print (\"This is before function call ...\")\n",
    "        function()\n",
    "        print (\"This is after function call ...\")\n",
    "    return wrapper\n",
    "@simple_decorator\n",
    "def say_hello():\n",
    "    print (\"Hello World!\")\n",
    "say_hello()"
   ]
  },
  {
   "cell_type": "code",
   "execution_count": 31,
   "metadata": {},
   "outputs": [
    {
     "name": "stdout",
     "output_type": "stream",
     "text": [
      "10\n",
      "9\n",
      "8\n",
      "7\n",
      "6\n",
      "5\n",
      "4\n",
      "3\n",
      "2\n",
      "1\n",
      "Starts....\n"
     ]
    }
   ],
   "source": [
    "import functools\n",
    "import time\n",
    "\n",
    "def slow_down(function):\n",
    "    @functools.wraps(function)\n",
    "    def wrapper_slow_down(*args,**kwargs):\n",
    "        time.sleep(1)\n",
    "        return function(*args,**kwargs)\n",
    "    return wrapper_slow_down\n",
    "\n",
    "@slow_down\n",
    "def countdown(from_number):\n",
    "    if from_number < 1:\n",
    "        print(\"Starts....\")\n",
    "    else:\n",
    "        print(from_number)\n",
    "        countdown(from_number-1)\n",
    "        \n",
    "countdown(10)"
   ]
  },
  {
   "cell_type": "code",
   "execution_count": null,
   "metadata": {},
   "outputs": [],
   "source": []
  }
 ],
 "metadata": {
  "kernelspec": {
   "display_name": "Python 3",
   "language": "python",
   "name": "python3"
  },
  "language_info": {
   "codemirror_mode": {
    "name": "ipython",
    "version": 3
   },
   "file_extension": ".py",
   "mimetype": "text/x-python",
   "name": "python",
   "nbconvert_exporter": "python",
   "pygments_lexer": "ipython3",
   "version": "3.7.0"
  }
 },
 "nbformat": 4,
 "nbformat_minor": 2
}
