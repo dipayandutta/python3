{
 "cells": [
  {
   "cell_type": "markdown",
   "metadata": {},
   "source": [
    "# Practice Python Programming"
   ]
  },
  {
   "cell_type": "markdown",
   "metadata": {},
   "source": [
    "Question -01 : Write a program which will find all such numbers which are divisable by 7 but are not a multiple of 5 , between 2000 and 3200 . The numbers obtained must be printed in a comma-separated sequence on a single line."
   ]
  },
  {
   "cell_type": "code",
   "execution_count": 2,
   "metadata": {},
   "outputs": [
    {
     "name": "stdout",
     "output_type": "stream",
     "text": [
      "2002,2009,2016,2023,2037,2044,2051,2058,2072,2079,2086,2093,2107,2114,2121,2128,2142,2149,2156,2163,2177,2184,2191,2198,2212,2219,2226,2233,2247,2254,2261,2268,2282,2289,2296,2303,2317,2324,2331,2338,2352,2359,2366,2373,2387,2394,2401,2408,2422,2429,2436,2443,2457,2464,2471,2478,2492,2499,2506,2513,2527,2534,2541,2548,2562,2569,2576,2583,2597,2604,2611,2618,2632,2639,2646,2653,2667,2674,2681,2688,2702,2709,2716,2723,2737,2744,2751,2758,2772,2779,2786,2793,2807,2814,2821,2828,2842,2849,2856,2863,2877,2884,2891,2898,2912,2919,2926,2933,2947,2954,2961,2968,2982,2989,2996,3003,3017,3024,3031,3038,3052,3059,3066,3073,3087,3094,3101,3108,3122,3129,3136,3143,3157,3164,3171,3178,3192,3199\n"
     ]
    }
   ],
   "source": [
    "result = [] # list that will store the desired numbers\n",
    "\n",
    "#looping and checking through numbers\n",
    "for i in range(2000,3201):\n",
    "    if((i%7==0) and (i%5!=0)):\n",
    "        result.append(str(i)) # converting result into string for comma adding\n",
    "        \n",
    "#adding ,(comma) on the result list\n",
    "print (','.join(result))"
   ]
  },
  {
   "cell_type": "markdown",
   "metadata": {},
   "source": [
    "**Question-02** Write a program which can compute the factorial of a given numbers."
   ]
  },
  {
   "cell_type": "code",
   "execution_count": 3,
   "metadata": {},
   "outputs": [
    {
     "name": "stdout",
     "output_type": "stream",
     "text": [
      "3628800\n"
     ]
    }
   ],
   "source": [
    "def fact(number):\n",
    "    if number == 0:\n",
    "        return 1\n",
    "    return number*fact(number-1)\n",
    "\n",
    "print(fact(10))"
   ]
  },
  {
   "cell_type": "markdown",
   "metadata": {},
   "source": [
    "**Question-03**: With a given integral number n, write a program to generate a dictionary that contains (i,i*i) such that it is an integral number between 1 and n .\n",
    "Suppose the following input is supplied to the program\n",
    "5,\n",
    "Then the o/p shall be like this\n",
    "{1:1,2:4,3:9,4:16,5:25}"
   ]
  },
  {
   "cell_type": "code",
   "execution_count": 5,
   "metadata": {},
   "outputs": [
    {
     "name": "stdout",
     "output_type": "stream",
     "text": [
      "{1: 1, 2: 4, 3: 9, 4: 16, 5: 25, 6: 36, 7: 49, 8: 64, 9: 81}\n"
     ]
    }
   ],
   "source": [
    "dict_of_numbers = dict()\n",
    "\n",
    "def dict_maker(number):\n",
    "    for i in range(1,number+1):\n",
    "        dict_of_numbers[i] = i*i\n",
    "\n",
    "dict_maker(9)\n",
    "print(dict_of_numbers)"
   ]
  },
  {
   "cell_type": "markdown",
   "metadata": {},
   "source": [
    "**Question-04** Write a program that will accepts a sequence of comma-separated numbers and generate a list and tuple .\n",
    "Suppose the following input is supplied\n",
    "10,12,32,34\n",
    "Then the o/p of the program will look like\n",
    "['10','12','32','34']\n",
    "{'10','12','32','34'}"
   ]
  },
  {
   "cell_type": "code",
   "execution_count": 6,
   "metadata": {},
   "outputs": [
    {
     "name": "stdout",
     "output_type": "stream",
     "text": [
      "Enter max numbers2\n",
      "2\n",
      "Enter 0 number3\n",
      "Enter 1 number4\n",
      "[['3'], ['4']]\n",
      "(['3'], ['4'])\n"
     ]
    }
   ],
   "source": [
    "max_numbers = input(\"Enter max numbers\")\n",
    "number = []\n",
    "print(max_numbers)\n",
    "\n",
    "for i in range(0, int(max_numbers)):\n",
    "    numbers = input(\"Enter {} number\".format(i))\n",
    "    number.append(str(numbers).split(','))\n",
    "\n",
    "print(number)\n",
    "result_tuple = tuple(number)\n",
    "\n",
    "\n",
    "print(result_tuple)\n"
   ]
  },
  {
   "cell_type": "markdown",
   "metadata": {},
   "source": [
    "**Question05** Define a class which has at least two methods:\n",
    "getstring: to get a string from console input\n",
    "printString: to print the string got from the console input\n",
    "Also include simple test function to test the class methods"
   ]
  },
  {
   "cell_type": "code",
   "execution_count": 7,
   "metadata": {},
   "outputs": [
    {
     "name": "stdout",
     "output_type": "stream",
     "text": [
      "Enter a text message -> Hello World!\n",
      "Entered String Hello World!\n"
     ]
    }
   ],
   "source": [
    "class StringProgram(object):\n",
    "    def __init__(self):\n",
    "        self.string = \"\"\n",
    "    def getString(self):\n",
    "        self.string = input(\"Enter a text message -> \")\n",
    "    def printString(self):\n",
    "        print(\"Entered String {}\".format(self.string))\n",
    "        \n",
    "strObject = StringProgram()\n",
    "strObject.getString()\n",
    "strObject.printString()"
   ]
  },
  {
   "cell_type": "markdown",
   "metadata": {},
   "source": [
    "**Question06** Write a program that calculates and prints the value according to the given formula\n",
    "Q = SquareRoot of [(2*C*D)/H]\n",
    "C = 50\n",
    "H = 30\n",
    "D = Variable comma separated\n",
    "\n",
    "Example \n",
    "100,105,200"
   ]
  },
  {
   "cell_type": "code",
   "execution_count": 11,
   "metadata": {},
   "outputs": [
    {
     "name": "stdout",
     "output_type": "stream",
     "text": [
      "12,23,42\n",
      "6,9,12\n"
     ]
    }
   ],
   "source": [
    "import math\n",
    "C = 50\n",
    "H = 30\n",
    "numbers = input()\n",
    "result = []\n",
    "items = [x for x in numbers.split(',')]\n",
    "for d in items:\n",
    "    result.append(str(int(round(math.sqrt(2*C*float(d)/H)))))\n",
    "\n",
    "print (','.join(result))"
   ]
  },
  {
   "cell_type": "markdown",
   "metadata": {},
   "source": [
    "**Question07**- Write a program which takes 2 digit X,Y as input and generates a 2-dimensional array, The element value in the ith row and jth col.\n",
    "Example\n",
    "i/p-2,3\n",
    "[[1,1,1,],[2,2,2]]"
   ]
  },
  {
   "cell_type": "code",
   "execution_count": 15,
   "metadata": {},
   "outputs": [
    {
     "name": "stdout",
     "output_type": "stream",
     "text": [
      "2,3\n",
      "[2, 3]\n",
      "2\n",
      "3\n",
      "[[0, 0, 0], [0, 0, 0]]\n",
      "[[0, 0, 0], [0, 1, 2]]\n"
     ]
    }
   ],
   "source": [
    "xyvalues = input()\n",
    "dimension = [int(x) for x in xyvalues.split(',')]\n",
    "print(dimension)\n",
    "rowItems = dimension[0]\n",
    "colItems = dimension[1]\n",
    "print(rowItems)\n",
    "print(colItems)\n",
    "\n",
    "multilist = [[0 for col in range(colItems)] for row in range(rowItems)]\n",
    "print(multilist)\n",
    "\n",
    "for row in range(rowItems):\n",
    "    for col in range(colItems):\n",
    "        multilist[row][col] = row*col\n",
    "        \n",
    "print (multilist)"
   ]
  },
  {
   "cell_type": "markdown",
   "metadata": {},
   "source": [
    "**Question08**  Write a programt that accepts a comma sequence of words as input and prints the words in comma-separated sequence after sorting."
   ]
  },
  {
   "cell_type": "code",
   "execution_count": 17,
   "metadata": {},
   "outputs": [
    {
     "name": "stdout",
     "output_type": "stream",
     "text": [
      "Enter String -> hello,planet,earth\n",
      "earth,hello,planet\n"
     ]
    }
   ],
   "source": [
    "def sorted_list():\n",
    "    items = [x for x in input(\"Enter String -> \").split(\",\")]\n",
    "    items.sort()\n",
    "    print(','.join(items))\n",
    "    \n",
    "if __name__ == '__main__':\n",
    "    sorted_list()"
   ]
  },
  {
   "cell_type": "markdown",
   "metadata": {},
   "source": [
    "**Question 09** Write a program that accepts sequence of lines as imput and prints after Capitalization of first word in each letter.\n",
    "\n",
    "Example \n",
    "hello world\n",
    "Hello World"
   ]
  },
  {
   "cell_type": "code",
   "execution_count": 2,
   "metadata": {},
   "outputs": [
    {
     "name": "stdout",
     "output_type": "stream",
     "text": [
      "Enter StringHello\n",
      "Enter String\n",
      "HELLO\n"
     ]
    }
   ],
   "source": [
    "lines = []\n",
    "\n",
    "while True:\n",
    "    string = input(\"Enter String\")\n",
    "    if string:\n",
    "        lines.append(string.upper())\n",
    "    else:\n",
    "        break\n",
    "        \n",
    "for sentence in lines:\n",
    "    print(sentence)"
   ]
  },
  {
   "cell_type": "markdown",
   "metadata": {},
   "source": [
    "**Question 10** Write a program that accepts a sequence of whitespace separated word as input , and then remove all whitespaces and duplicate words . "
   ]
  },
  {
   "cell_type": "code",
   "execution_count": 3,
   "metadata": {},
   "outputs": [
    {
     "name": "stdout",
     "output_type": "stream",
     "text": [
      "Enter String with white space and duplicateHello hello planet Earth earth\n",
      "EARTH HELLO PLANET\n"
     ]
    }
   ],
   "source": [
    "def remove_space_duplication():\n",
    "    words_upper = []\n",
    "    string = input(\"Enter String with white space and duplicate\")\n",
    "    words = [word for word in string.split(\" \")] # Remove the white spaces\n",
    "    words_upper = [word.upper() for word in words] # convert all in uppercase \n",
    "    print (\" \".join(sorted(list(set(words_upper))))) # Remove the duplicate and print in capital words\n",
    "\n",
    "if __name__ == '__main__':\n",
    "    remove_space_duplication()"
   ]
  },
  {
   "cell_type": "markdown",
   "metadata": {},
   "source": [
    "**Question 11** Write a program which accepts a sequence of comma seperated 4 digits binary numbers , and check whether they are divisable by 2 or not ."
   ]
  },
  {
   "cell_type": "code",
   "execution_count": 4,
   "metadata": {},
   "outputs": [
    {
     "name": "stdout",
     "output_type": "stream",
     "text": [
      "0110,1100,1111,0000\n",
      "0110,1100,0000\n"
     ]
    }
   ],
   "source": [
    "def check():\n",
    "    values = []\n",
    "    items = [x for x in input().split(',')]\n",
    "    for number in items:\n",
    "        int_number = int(number,2)\n",
    "        if not int_number%2:\n",
    "            values.append(number)\n",
    "\n",
    "    print(','.join(values))\n",
    "\n",
    "if __name__ == '__main__':\n",
    "    check()"
   ]
  },
  {
   "cell_type": "markdown",
   "metadata": {},
   "source": [
    "**Question 12** Write a program that accepts a sentence and calculate the number of letters and digits in a sentence\n"
   ]
  },
  {
   "cell_type": "code",
   "execution_count": 1,
   "metadata": {},
   "outputs": [
    {
     "name": "stdout",
     "output_type": "stream",
     "text": [
      "Characters 10\n",
      "Digits 3\n"
     ]
    }
   ],
   "source": [
    "def char_digit_calc(msg_string):\n",
    "    d = {\"digits\":0,\"chars\":0}\n",
    "    for msg in msg_string:\n",
    "        if msg.isalpha():\n",
    "            d[\"chars\"] += 1\n",
    "        elif msg.isdigit():\n",
    "            d[\"digits\"] += 1\n",
    "        else:\n",
    "            pass\n",
    "        \n",
    "    print(\"Characters {0}\".format(d[\"chars\"]))\n",
    "    print (\"Digits {0}\".format(d[\"digits\"]))\n",
    "    \n",
    "if __name__ == '__main__':\n",
    "    char_digit_calc(\"Hello World 123\")"
   ]
  },
  {
   "cell_type": "markdown",
   "metadata": {},
   "source": [
    "**Question 13** Write a program that counts uppercase and lowercase Characters"
   ]
  },
  {
   "cell_type": "code",
   "execution_count": 5,
   "metadata": {},
   "outputs": [
    {
     "name": "stdout",
     "output_type": "stream",
     "text": [
      "Upper case count 1\n",
      "Lower case count 9\n"
     ]
    }
   ],
   "source": [
    "def upper_lower_calc(msg_string):\n",
    "    d = {\"ucase\":0,\"lcase\":0}\n",
    "    for msg in msg_string:\n",
    "        if msg.isupper():\n",
    "            d[\"ucase\"] += 1\n",
    "        elif msg.islower():\n",
    "            d[\"lcase\"] += 1\n",
    "        else:\n",
    "            pass\n",
    "        \n",
    "    print(\"Upper case count {}\".format(d[\"ucase\"]))\n",
    "    print(\"Lower case count {}\".format(d[\"lcase\"]))\n",
    "    \n",
    "if __name__ == '__main__':\n",
    "    upper_lower_calc(\"Hello world\")\n",
    "        "
   ]
  },
  {
   "cell_type": "markdown",
   "metadata": {},
   "source": [
    "**Question 14** Square each odd number in a list "
   ]
  },
  {
   "cell_type": "code",
   "execution_count": 15,
   "metadata": {},
   "outputs": [
    {
     "name": "stdout",
     "output_type": "stream",
     "text": [
      "1\n",
      "9\n",
      "25\n"
     ]
    }
   ],
   "source": [
    "def square_odd(numbers):\n",
    "    odd_numbers = []\n",
    "    for number in numbers:\n",
    "        if number%2 != 0:\n",
    "            odd_numbers.append(number)\n",
    "        else:\n",
    "            pass\n",
    "    for odd in odd_numbers:\n",
    "        print(\"{}\".format(odd**2))\n",
    "    \n",
    "if __name__ == '__main__':\n",
    "    numbers = [1,2,3,4,5,6]\n",
    "    square_odd(numbers)"
   ]
  },
  {
   "cell_type": "markdown",
   "metadata": {},
   "source": [
    "**Question 15** Split command and white space from a string"
   ]
  },
  {
   "cell_type": "code",
   "execution_count": 2,
   "metadata": {},
   "outputs": [
    {
     "name": "stdout",
     "output_type": "stream",
     "text": [
      "['blah', 'lots', 'of', 'spaces', 'here']\n"
     ]
    }
   ],
   "source": [
    "import re\n",
    "string = \"  blah, lots  ,  of ,  spaces, here \"\n",
    "pattern = re.compile(\"^\\s+|\\s*,\\s*|\\s+$\")\n",
    "print([x for x in pattern.split(string) if x])"
   ]
  },
  {
   "cell_type": "markdown",
   "metadata": {},
   "source": [
    "**Question 16** Write a program to check validity of a user input\n",
    "1. At least 1 letter [a-z]\n",
    "2. At least 1 letter [A-Z]\n",
    "3. At least 1 number [0-9]\n",
    "4. At least 1 special character [$#@]\n",
    "5. Min length 6 char\n",
    "6. Max Length 12 char"
   ]
  },
  {
   "cell_type": "code",
   "execution_count": 3,
   "metadata": {},
   "outputs": [
    {
     "name": "stdout",
     "output_type": "stream",
     "text": [
      "\n"
     ]
    }
   ],
   "source": [
    "import re\n",
    "def validator(str_msg):\n",
    "    values = []\n",
    "    for msg in str_msg:\n",
    "        if len(msg)<6 or len(msg)>12:\n",
    "            continue\n",
    "        else:\n",
    "            pass\n",
    "        if not re.search(\"[a-z]\",msg):\n",
    "            countinue\n",
    "        elif not re.search(\"[0-9]\",msg):\n",
    "            continue\n",
    "        elif not re.search(\"[A-Z]\",msg):\n",
    "            continue\n",
    "        elif not re.search(\"[$#@]\",msg):\n",
    "            continue\n",
    "        elif  re.search(\"\\s\",msg):\n",
    "            continue\n",
    "        else:\n",
    "            pass\n",
    "        \n",
    "        values.append(msg)\n",
    "        \n",
    "    print (\",\".join(values))\n",
    "    \n",
    "if __name__ == '__main__':\n",
    "    validator(\"Adsd1#$1\")"
   ]
  },
  {
   "cell_type": "markdown",
   "metadata": {},
   "source": [
    "**Question 16** Write a program to compute the frequency of the words from the input."
   ]
  },
  {
   "cell_type": "code",
   "execution_count": 7,
   "metadata": {},
   "outputs": [
    {
     "data": {
      "text/plain": [
       "[('the', 1091),\n",
       " ('and', 969),\n",
       " ('to', 767),\n",
       " ('of', 675),\n",
       " ('i', 633),\n",
       " ('a', 571),\n",
       " ('you', 558),\n",
       " ('my', 520),\n",
       " ('in', 451),\n",
       " ('it', 421)]"
      ]
     },
     "execution_count": 7,
     "metadata": {},
     "output_type": "execute_result"
    }
   ],
   "source": [
    "import re\n",
    "from collections import Counter\n",
    "words = re.findall(r'\\w+', open('hamlet.txt').read().lower())\n",
    "Counter(words).most_common(10)"
   ]
  },
  {
   "cell_type": "markdown",
   "metadata": {},
   "source": [
    "**Question 17** Defina a function which can print a dictionary where the keys are number and values are square of the numbers"
   ]
  },
  {
   "cell_type": "code",
   "execution_count": 10,
   "metadata": {},
   "outputs": [
    {
     "name": "stdout",
     "output_type": "stream",
     "text": [
      "{1: 1, 2: 4, 3: 9, 4: 16, 5: 25, 6: 36, 7: 49, 8: 64, 9: 81, 10: 100, 11: 121, 12: 144, 13: 169, 14: 196, 15: 225, 16: 256, 17: 289, 18: 324, 19: 361, 20: 400}\n",
      "1 1\n",
      "2 4\n",
      "3 9\n",
      "4 16\n",
      "5 25\n",
      "6 36\n",
      "7 49\n",
      "8 64\n",
      "9 81\n",
      "10 100\n",
      "11 121\n",
      "12 144\n",
      "13 169\n",
      "14 196\n",
      "15 225\n",
      "16 256\n",
      "17 289\n",
      "18 324\n",
      "19 361\n",
      "20 400\n"
     ]
    }
   ],
   "source": [
    "def printDict():\n",
    "    d = dict()\n",
    "    for i in range(1,21):\n",
    "        d[i] = i**2\n",
    "    print (d)\n",
    "    \n",
    "    for k,v in d.items():\n",
    "        print(k,v)\n",
    "        \n",
    "if __name__ == '__main__':\n",
    "    printDict()"
   ]
  },
  {
   "cell_type": "markdown",
   "metadata": {},
   "source": [
    "**Question 18** Define a function which can generate a tuple"
   ]
  },
  {
   "cell_type": "code",
   "execution_count": 13,
   "metadata": {},
   "outputs": [
    {
     "name": "stdout",
     "output_type": "stream",
     "text": [
      "20\n"
     ]
    }
   ],
   "source": [
    "def printTuple():\n",
    "    l = list()\n",
    "    for i in range(1,21):\n",
    "        l.append(i**2)\n",
    "    print (i)\n",
    "    \n",
    "if __name__ == '__main__':\n",
    "    printTuple()"
   ]
  },
  {
   "cell_type": "markdown",
   "metadata": {},
   "source": [
    "**Question 19** Use filter() to get even numbers from the list of 1..20"
   ]
  },
  {
   "cell_type": "code",
   "execution_count": 16,
   "metadata": {},
   "outputs": [
    {
     "name": "stdout",
     "output_type": "stream",
     "text": [
      "<filter object at 0x0000023C15662898>\n",
      "2\n",
      "4\n",
      "6\n",
      "8\n",
      "10\n",
      "12\n",
      "14\n",
      "16\n",
      "18\n",
      "20\n"
     ]
    }
   ],
   "source": [
    "def printEven():\n",
    "    evenNumbers = filter(lambda x: x%2==0 , range(1,21))\n",
    "    print (evenNumbers)\n",
    "    for number in evenNumbers:\n",
    "        print (number)\n",
    "    \n",
    "if __name__ == '__main__':\n",
    "    printEven()"
   ]
  },
  {
   "cell_type": "markdown",
   "metadata": {},
   "source": [
    "**Question 20** use map() to get square of numbers from 1..20"
   ]
  },
  {
   "cell_type": "code",
   "execution_count": 18,
   "metadata": {},
   "outputs": [
    {
     "name": "stdout",
     "output_type": "stream",
     "text": [
      "1\n",
      "4\n",
      "9\n",
      "16\n",
      "25\n",
      "36\n",
      "49\n",
      "64\n",
      "81\n",
      "100\n",
      "121\n",
      "144\n",
      "169\n",
      "196\n",
      "225\n",
      "256\n",
      "289\n",
      "324\n",
      "361\n",
      "400\n"
     ]
    }
   ],
   "source": [
    "def squareNumbers():\n",
    "    squareNumbers = map(lambda x: x**2 , range(1,21))\n",
    "    for number in squareNumbers:\n",
    "        print (number)\n",
    "        \n",
    "if __name__ == '__main__':\n",
    "    squareNumbers()"
   ]
  },
  {
   "cell_type": "markdown",
   "metadata": {},
   "source": [
    "**Question 20** Define a class with a staticmethod "
   ]
  },
  {
   "cell_type": "code",
   "execution_count": 21,
   "metadata": {},
   "outputs": [
    {
     "name": "stdout",
     "output_type": "stream",
     "text": [
      "I code in python!\n"
     ]
    }
   ],
   "source": [
    "class Code(object):\n",
    "    @staticmethod\n",
    "    def python():\n",
    "        print (\"I code in python!\")\n",
    "        \n",
    "computer = Code()\n",
    "computer.python()"
   ]
  },
  {
   "cell_type": "code",
   "execution_count": null,
   "metadata": {},
   "outputs": [],
   "source": []
  }
 ],
 "metadata": {
  "kernelspec": {
   "display_name": "Python 3",
   "language": "python",
   "name": "python3"
  },
  "language_info": {
   "codemirror_mode": {
    "name": "ipython",
    "version": 3
   },
   "file_extension": ".py",
   "mimetype": "text/x-python",
   "name": "python",
   "nbconvert_exporter": "python",
   "pygments_lexer": "ipython3",
   "version": "3.7.0"
  }
 },
 "nbformat": 4,
 "nbformat_minor": 2
}
